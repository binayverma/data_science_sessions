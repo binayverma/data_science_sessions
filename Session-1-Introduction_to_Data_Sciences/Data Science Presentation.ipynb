{
 "cells": [
  {
   "cell_type": "code",
   "execution_count": 1,
   "metadata": {
    "collapsed": true
   },
   "outputs": [],
   "source": [
    "# numerical python package to do fast computations.\n",
    "import numpy as np\n",
    "import pandas as pd\n",
    "\n",
    "# plotting library to visulise the data.\n",
    "import matplotlib.pyplot as plt\n",
    "\n",
    "# Instruction to matplot to display plot in Jupyter Notebook itself.\n",
    "%matplotlib inline"
   ]
  },
  {
   "cell_type": "code",
   "execution_count": null,
   "metadata": {
    "collapsed": true,
    "scrolled": false
   },
   "outputs": [],
   "source": [
    "data_points_count = 50\n",
    "\n",
    "# x = np.linspace(0, 10, data_points_count)\n",
    "\n",
    "x = np.array([  0.        ,   0.20408163,   0.40816327,   0.6122449 ,\n",
    "         0.81632653,   1.02040816,   1.2244898 ,   1.42857143,\n",
    "         1.63265306,   1.83673469,   2.04081633,   2.24489796,\n",
    "         2.44897959,   2.65306122,   2.85714286,   3.06122449,\n",
    "         3.26530612,   3.46938776,   3.67346939,   3.87755102,\n",
    "         4.08163265,   4.28571429,   4.48979592,   4.69387755,\n",
    "         4.89795918,   5.10204082,   5.30612245,   5.51020408,\n",
    "         5.71428571,   5.91836735,   6.12244898,   6.32653061,\n",
    "         6.53061224,   6.73469388,   6.93877551,   7.14285714,\n",
    "         7.34693878,   7.55102041,   7.75510204,   7.95918367,\n",
    "         8.16326531,   8.36734694,   8.57142857,   8.7755102 ,\n",
    "         8.97959184,   9.18367347,   9.3877551 ,   9.59183673,\n",
    "         9.79591837,  10.        ])\n",
    "\n",
    "m = np.random.random(1) * 5\n",
    "c = np.random.random(1) * 10\n",
    "\n",
    "y = m * x + c + 3.5 * np.random.random(data_points_count)\n",
    "\n",
    "y2 = 5 * np.sin(x) + 1 * x + 0.1 * x * x + 12 * np.random.random(data_points_count)\n",
    "\n",
    "print(m, c)\n",
    "\n",
    "plt.figure(figsize=(15, 8))\n",
    "plt.plot(x, y, '*r')"
   ]
  },
  {
   "cell_type": "code",
   "execution_count": null,
   "metadata": {
    "collapsed": true
   },
   "outputs": [],
   "source": [
    "%%sh\n",
    "\n",
    "# wget http://mospi.nic.in/sites/default/files/logo.png\n",
    "# wget https://upload.wikimedia.org/wikipedia/commons/thumb/e/e7/G20.svg/863px-G20.svg.png"
   ]
  },
  {
   "cell_type": "markdown",
   "metadata": {},
   "source": [
    "![al data](logo.png)\n",
    "\n",
    "## INDIA, G-20 AND THE WORLD - Statistical Year Book India 2016\n",
    "\n",
    "___ Navigation Path: ___ Home > Statistical Year Book India 2016 > INDIA, G-20 AND THE WORLD\n",
    "\n",
    "The G20 (or G-20 or Group of Twenty) is an international forum for the governments and central bank governors from 20 major economies. It was founded in 1999 with the aim of studying, reviewing, and promoting high-level discussion of policy issues pertaining to the promotion of international financial stability.[3] It seeks to address issues that go beyond the responsibilities of any one organization.[3] The G20 heads of government or heads of state have periodically conferred at summits since their initial meeting in 2008, and the group also hosts separate meetings of finance ministers and central bank governors.\n",
    "\n",
    "The members include 19 individual countries and along with the European Union (EU). The EU is represented by the European Commission and by the European Central Bank. Collectively, the G20 economies account for around 85% of the gross world product (GWP), 80% of world trade (or, if excluding EU intra-trade, 75%), and two-thirds of the world population.[2]\n",
    "\n",
    "![Alt Image](863px-G20.svg.png)\n",
    "\n",
    "\n",
    "Data Source: \n",
    "* http://mospi.nic.in/statistical-year-book-india/2016/170\n",
    "\n",
    "References:\n",
    "* [Wikipedia G20](https://en.wikipedia.org/wiki/G20)"
   ]
  },
  {
   "cell_type": "markdown",
   "metadata": {},
   "source": [
    "## Data Gathering\n",
    "\n",
    "* wget http://mospi.nic.in/statistical-year-book-india/2016/170\n",
    "\n",
    "\n",
    "* Country\n",
    "* Area\n",
    "* Population (Millions)\n",
    "* GDP Billions (USD)\n",
    "* Gross Domestic Product  Per Capita Income at Current Price  (USD)\n",
    "* Gross domestic product based on Purchasing-Power-Parity (PPP) valuation of Country GDP  in Billions ( Current International Dollar)\n",
    "\n",
    "\n",
    "* wget https://docs.google.com/a/imaginea.com/spreadsheets/d/1jbwyZsHy_SsJ-ANWlNVgMKOl5PkoMMcqkMiMJRXDXms/edit?usp=sharing\n"
   ]
  },
  {
   "cell_type": "code",
   "execution_count": null,
   "metadata": {
    "collapsed": true
   },
   "outputs": [],
   "source": [
    "%%sh\n",
    "\n",
    "# ls -l ~/Downloads/G20*csv\n",
    "\n",
    "# mv ~/Downloads/G20*csv G20.csv"
   ]
  },
  {
   "cell_type": "markdown",
   "metadata": {},
   "source": [
    "## Data Cleanup"
   ]
  },
  {
   "cell_type": "code",
   "execution_count": 93,
   "metadata": {
    "collapsed": true
   },
   "outputs": [],
   "source": [
    "data = pd.read_csv('G20.csv')\n",
    "\n",
    "cols = ['Area', 'Population_2010', 'Population_2011',\n",
    "       'Population_2012', 'Population_2013', 'Population_2014',\n",
    "       'Population_2015', 'GDP_2010', 'GDP_2011', 'GDP_2012', 'GDP_2013',\n",
    "       'GDP_2014', 'GDP_2015', 'GDP_PCI_2010', 'GDP_PCI_2011', 'GDP_PCI_2012',\n",
    "       'GDP_PCI_2013', 'GDP_PCI_2014', 'GDP_PCI_2015', 'GDP_PPP_2010',\n",
    "       'GDP_PPP_2011', 'GDP_PPP_2012', 'GDP_PPP_2013', 'GDP_PPP_2014',\n",
    "       'GDP_PPP_2015']\n",
    "\n",
    "data[cols] = data[cols].applymap(lambda x: float(str(x).replace(',', '')))\n",
    "all_countries = sorted(data.Country.unique())\n",
    "country_labler = all_countries.index\n",
    "# country_labler('India')\n",
    "# data.Country = data.Country.map(country_labler)"
   ]
  },
  {
   "cell_type": "code",
   "execution_count": 103,
   "metadata": {
    "collapsed": true
   },
   "outputs": [],
   "source": [
    "sorted(data.columns.tolist())\n",
    "\n",
    "cols1 = ['GDP_2010',\n",
    " 'GDP_2011',\n",
    " 'GDP_2012',\n",
    " 'GDP_2013',\n",
    " 'GDP_2014',\n",
    " 'GDP_2015',]\n",
    "\n",
    "cols2 = [\n",
    " 'GDP_PPP_2010',\n",
    " 'GDP_PPP_2011',\n",
    " 'GDP_PPP_2012',\n",
    " 'GDP_PPP_2013',\n",
    " 'GDP_PPP_2014',\n",
    " 'GDP_PPP_2015']\n",
    "\n",
    "cols3 = []\n",
    "\n",
    "data1 = data[['Area',\n",
    " 'Country',\n",
    " 'GDP_2010',\n",
    " 'GDP_2011',\n",
    " 'GDP_2012',\n",
    " 'GDP_2013',\n",
    " 'GDP_2014',\n",
    " 'GDP_2015',]].copy()\n",
    "\n",
    "data2 = data[['Area',\n",
    " 'Country',\n",
    " 'GDP_PPP_2010',\n",
    " 'GDP_PPP_2011',\n",
    " 'GDP_PPP_2012',\n",
    " 'GDP_PPP_2013',\n",
    " 'GDP_PPP_2014',\n",
    " 'GDP_PPP_2015',]].copy()\n",
    "\n",
    "data3 = data[['Area',\n",
    " 'Country',\n",
    " 'GDP_PCI_2010',\n",
    " 'GDP_PCI_2011',\n",
    " 'GDP_PCI_2012',\n",
    " 'GDP_PCI_2013',\n",
    " 'GDP_PCI_2014',\n",
    " 'GDP_PCI_2015',]].copy()\n",
    "\n",
    "\n",
    "data4 = data[['Area',\n",
    " 'Country',\n",
    " 'Population_2010',\n",
    " 'Population_2011',\n",
    " 'Population_2012',\n",
    " 'Population_2013',\n",
    " 'Population_2014',\n",
    " 'Population_2015']].copy()"
   ]
  },
  {
   "cell_type": "markdown",
   "metadata": {},
   "source": [
    "## Experiments"
   ]
  },
  {
   "cell_type": "code",
   "execution_count": 95,
   "metadata": {},
   "outputs": [
    {
     "data": {
      "text/plain": [
       "array([3, 3, 0, 0, 2, 0, 0, 0, 3, 0, 4, 3, 0, 3, 3, 3, 3, 0, 1, 1])"
      ]
     },
     "execution_count": 95,
     "metadata": {},
     "output_type": "execute_result"
    }
   ],
   "source": [
    "import sklearn.cluster\n",
    "\n",
    "clf = sklearn.cluster.AgglomerativeClustering(5)\n",
    "\n",
    "pred = clf.fit_predict(data1['GDP_2010\tGDP_2011\tGDP_2012\tGDP_2013\tGDP_2014\tGDP_2015'.split()])\n",
    "\n",
    "pred"
   ]
  },
  {
   "cell_type": "code",
   "execution_count": null,
   "metadata": {
    "collapsed": true
   },
   "outputs": [],
   "source": [
    "new_data.metric.unique()"
   ]
  },
  {
   "cell_type": "code",
   "execution_count": null,
   "metadata": {
    "collapsed": true
   },
   "outputs": [],
   "source": [
    "new_data.head(20).copy(deep=True)"
   ]
  },
  {
   "cell_type": "code",
   "execution_count": null,
   "metadata": {
    "collapsed": true
   },
   "outputs": [],
   "source": [
    "# segregating year & param\n",
    "new_data['year'] = new_data.metric.map(lambda x: int(x.rsplit('_')[-1]))\n",
    "new_data['param'] = new_data.metric.map(lambda x: ''.join(x.rsplit('_')[:-1]))\n",
    "\n",
    "# drop metric column\n",
    "new_data.drop('metric', axis=1, inplace=True)\n",
    "\n",
    "# converting data into integers"
   ]
  },
  {
   "cell_type": "code",
   "execution_count": null,
   "metadata": {
    "collapsed": true,
    "scrolled": true
   },
   "outputs": [],
   "source": [
    "# Key values to check how the world \n",
    "print('Country', new_data.country.unique())\n",
    "print('Country', new_data.param.unique())"
   ]
  },
  {
   "cell_type": "code",
   "execution_count": null,
   "metadata": {
    "collapsed": true
   },
   "outputs": [],
   "source": [
    "temp = new_data[(new_data.country == 'USA') & (new_data.param ==  'GDP')].copy(deep=True)\n",
    "\n",
    "temp"
   ]
  },
  {
   "cell_type": "code",
   "execution_count": null,
   "metadata": {
    "collapsed": true
   },
   "outputs": [],
   "source": [
    "X_Label = 'USA'\n",
    "Y_Label = 'GDP'\n",
    "plt.figure(figsize=(15, 5))\n",
    "\n",
    "temp = new_data[(new_data.country == X_Label) & (new_data.param == Y_Label)].copy(deep=True)\n",
    "_x,  _y = temp.year.values, temp.value.values\n",
    "plt.plot(_x, _y)\n",
    "plt.xticks(_x, map(str, _x))\n",
    "\n",
    "\n",
    "X_Label = 'European Union'\n",
    "Y_Label = 'GDP'\n",
    "plt.figure(figsize=(15, 5))\n",
    "\n",
    "temp = new_data[(new_data.country == X_Label) & (new_data.param == Y_Label)].copy(deep=True)\n",
    "_x,  _y = temp.year.values, temp.value.values\n",
    "plt.plot(_x, _y)\n",
    "plt.xticks(_x, map(str, _x))"
   ]
  },
  {
   "cell_type": "code",
   "execution_count": null,
   "metadata": {
    "collapsed": true
   },
   "outputs": [],
   "source": [
    "X_Label = 'USA'\n",
    "Y_Label = 'GDP'\n",
    "plt.figure(figsize=(15, 5))\n",
    "\n",
    "temp = new_data[(new_data.country == X_Label) & (new_data.param == Y_Label)].copy(deep=True)\n",
    "_x,  _y = temp.year.values, temp.value.values\n",
    "plt.plot(_x, _y)\n",
    "plt.xticks(_x, map(str, _x))"
   ]
  },
  {
   "cell_type": "code",
   "execution_count": null,
   "metadata": {
    "collapsed": true
   },
   "outputs": [],
   "source": [
    "_y"
   ]
  },
  {
   "cell_type": "code",
   "execution_count": null,
   "metadata": {
    "collapsed": true
   },
   "outputs": [],
   "source": [
    "_y - _y.min()"
   ]
  },
  {
   "cell_type": "code",
   "execution_count": null,
   "metadata": {
    "collapsed": true
   },
   "outputs": [],
   "source": [
    "Y_Label = 'Population'\n",
    "plt.figure(figsize=(15, 8))\n",
    "\n",
    "all_countries = new_data.country.unique()[:5]\n",
    "\n",
    "for X_Label in all_countries:\n",
    "    temp = new_data[(new_data.country == X_Label) & (new_data.param == Y_Label)].copy(deep=True)\n",
    "    _x,  _y = temp.year.values, temp.value.values\n",
    "    _y = _y - _y.min()\n",
    "    plt.plot(_x, _y)\n",
    "    plt.xticks(_x, map(str, _x))\n",
    "    \n",
    "plt.legend(all_countries)"
   ]
  },
  {
   "cell_type": "markdown",
   "metadata": {},
   "source": [
    "# Ideas\n",
    "\n",
    "- Show top 5 countries\n",
    "- Show only comparable countries"
   ]
  },
  {
   "cell_type": "code",
   "execution_count": 164,
   "metadata": {
    "collapsed": true
   },
   "outputs": [],
   "source": [
    "country_codes = {'Argentina': 'ARG',\n",
    " 'Australia': 'AUS',\n",
    " 'Brazil': 'BRA',\n",
    " 'Canada': 'CAN',\n",
    " 'China': 'CHN',\n",
    " 'European Union': 'USA',\n",
    " 'France': 'FRA',\n",
    " 'Germany': 'DEU',\n",
    " 'India': 'IND',\n",
    " 'Indonesia': 'IDN',\n",
    " 'Italy': 'ITA',\n",
    " 'Japan': 'JPN',\n",
    " 'Mexico': 'MEX',\n",
    " 'Republic of Korea': 'USA',\n",
    " 'Russia': 'RUS',\n",
    " 'Saudi Arabia': 'SAU',\n",
    " 'South Africa': 'ZAF',\n",
    " 'Turkey': 'TUR',\n",
    " 'USA': 'USA',\n",
    " 'United Kingdom': 'GBR'}\n",
    "\n",
    "chart_colors = [\"rgb(0,0,0)\",\n",
    "\"rgb(255,255,255)\",\n",
    "\"rgb(255,0,0)\",\n",
    "\"rgb(0,255,0)\",\n",
    "\"rgb(0,0,255)\",\n",
    "\"rgb(255,255,0)\",\n",
    "\"rgb(0,255,255)\",\n",
    "\"rgb(255,0,255)\",\n",
    "\"rgb(192,192,192)\",\n",
    "\"rgb(128,128,128)\",\n",
    "\"rgb(128,0,0)\",\n",
    "\"rgb(128,128,0)\",\n",
    "\"rgb(0,128,0)\",\n",
    "\"rgb(128,0,128)\",\n",
    "\"rgb(0,128,128)\",\n",
    "\"rgb(0,0,128)\",]\n",
    "\n",
    "chart_colors += chart_colors\n",
    "\n",
    "chart_colors = chart_colors[:len(country_codes)]\n",
    "\n",
    "data1['Country_Codes'] = data1['Country'].map(lambda x: country_codes[x])"
   ]
  },
  {
   "cell_type": "code",
   "execution_count": 140,
   "metadata": {},
   "outputs": [
    {
     "data": {
      "text/plain": [
       "array([3, 3, 0, 0, 2, 0, 0, 0, 3, 0, 4, 3, 0, 3, 3, 3, 3, 0, 1, 1])"
      ]
     },
     "execution_count": 140,
     "metadata": {},
     "output_type": "execute_result"
    }
   ],
   "source": [
    "import sklearn.cluster\n",
    "\n",
    "clf = sklearn.cluster.AgglomerativeClustering(5)\n",
    "\n",
    "pred = clf.fit_predict(data1['GDP_2010\tGDP_2011\tGDP_2012\tGDP_2013\tGDP_2014\tGDP_2015'.split()])\n",
    "\n",
    "pred"
   ]
  },
  {
   "cell_type": "code",
   "execution_count": 141,
   "metadata": {
    "collapsed": true
   },
   "outputs": [],
   "source": [
    "data1['cluster'] = pred"
   ]
  },
  {
   "cell_type": "code",
   "execution_count": 112,
   "metadata": {
    "collapsed": true
   },
   "outputs": [],
   "source": [
    "\n",
    "data1['text'] = 'Cluster ID' + data1.cluser"
   ]
  },
  {
   "cell_type": "code",
   "execution_count": 142,
   "metadata": {},
   "outputs": [
    {
     "data": {
      "text/html": [
       "<div>\n",
       "<table border=\"1\" class=\"dataframe\">\n",
       "  <thead>\n",
       "    <tr style=\"text-align: right;\">\n",
       "      <th></th>\n",
       "      <th>Area</th>\n",
       "      <th>Country</th>\n",
       "      <th>GDP_2010</th>\n",
       "      <th>GDP_2011</th>\n",
       "      <th>GDP_2012</th>\n",
       "      <th>GDP_2013</th>\n",
       "      <th>GDP_2014</th>\n",
       "      <th>GDP_2015</th>\n",
       "      <th>Country_Codes</th>\n",
       "      <th>cluser</th>\n",
       "      <th>cluster</th>\n",
       "    </tr>\n",
       "  </thead>\n",
       "  <tbody>\n",
       "    <tr>\n",
       "      <th>0</th>\n",
       "      <td>2766890.0</td>\n",
       "      <td>Argentina</td>\n",
       "      <td>461.65</td>\n",
       "      <td>558.68</td>\n",
       "      <td>607.60</td>\n",
       "      <td>622.05</td>\n",
       "      <td>543.06</td>\n",
       "      <td>578.71</td>\n",
       "      <td>ARG</td>\n",
       "      <td>3</td>\n",
       "      <td>3</td>\n",
       "    </tr>\n",
       "    <tr>\n",
       "      <th>1</th>\n",
       "      <td>7686850.0</td>\n",
       "      <td>Australia</td>\n",
       "      <td>1244.97</td>\n",
       "      <td>1499.95</td>\n",
       "      <td>1555.26</td>\n",
       "      <td>1497.22</td>\n",
       "      <td>1442.72</td>\n",
       "      <td>1240.80</td>\n",
       "      <td>AUS</td>\n",
       "      <td>3</td>\n",
       "      <td>3</td>\n",
       "    </tr>\n",
       "    <tr>\n",
       "      <th>2</th>\n",
       "      <td>8511965.0</td>\n",
       "      <td>Brazil</td>\n",
       "      <td>2209.27</td>\n",
       "      <td>2613.06</td>\n",
       "      <td>2412.02</td>\n",
       "      <td>2391.03</td>\n",
       "      <td>2346.58</td>\n",
       "      <td>1799.61</td>\n",
       "      <td>BRA</td>\n",
       "      <td>0</td>\n",
       "      <td>0</td>\n",
       "    </tr>\n",
       "    <tr>\n",
       "      <th>3</th>\n",
       "      <td>9976140.0</td>\n",
       "      <td>Canada</td>\n",
       "      <td>1614.07</td>\n",
       "      <td>1788.74</td>\n",
       "      <td>1832.72</td>\n",
       "      <td>1838.96</td>\n",
       "      <td>1785.39</td>\n",
       "      <td>1572.78</td>\n",
       "      <td>CAN</td>\n",
       "      <td>0</td>\n",
       "      <td>0</td>\n",
       "    </tr>\n",
       "    <tr>\n",
       "      <th>4</th>\n",
       "      <td>9596960.0</td>\n",
       "      <td>China</td>\n",
       "      <td>6039.55</td>\n",
       "      <td>7492.53</td>\n",
       "      <td>8461.51</td>\n",
       "      <td>9490.85</td>\n",
       "      <td>10356.51</td>\n",
       "      <td>11384.76</td>\n",
       "      <td>CHN</td>\n",
       "      <td>2</td>\n",
       "      <td>2</td>\n",
       "    </tr>\n",
       "  </tbody>\n",
       "</table>\n",
       "</div>"
      ],
      "text/plain": [
       "        Area    Country  GDP_2010  GDP_2011  GDP_2012  GDP_2013  GDP_2014  \\\n",
       "0  2766890.0  Argentina    461.65    558.68    607.60    622.05    543.06   \n",
       "1  7686850.0  Australia   1244.97   1499.95   1555.26   1497.22   1442.72   \n",
       "2  8511965.0     Brazil   2209.27   2613.06   2412.02   2391.03   2346.58   \n",
       "3  9976140.0     Canada   1614.07   1788.74   1832.72   1838.96   1785.39   \n",
       "4  9596960.0      China   6039.55   7492.53   8461.51   9490.85  10356.51   \n",
       "\n",
       "   GDP_2015 Country_Codes  cluser  cluster  \n",
       "0    578.71           ARG       3        3  \n",
       "1   1240.80           AUS       3        3  \n",
       "2   1799.61           BRA       0        0  \n",
       "3   1572.78           CAN       0        0  \n",
       "4  11384.76           CHN       2        2  "
      ]
     },
     "execution_count": 142,
     "metadata": {},
     "output_type": "execute_result"
    }
   ],
   "source": [
    "data1.head() "
   ]
  },
  {
   "cell_type": "code",
   "execution_count": 121,
   "metadata": {},
   "outputs": [
    {
     "name": "stderr",
     "output_type": "stream",
     "text": [
      "/Users/sampathm/miniconda3/lib/python3.5/site-packages/plotly/offline/offline.py:459: UserWarning:\n",
      "\n",
      "Your filename `d3-world-map` didn't end with .html. Adding .html to the end of your file.\n",
      "\n"
     ]
    },
    {
     "data": {
      "text/plain": [
       "'file:///Users/sampathm/devbox/d3-world-map.html'"
      ]
     },
     "execution_count": 121,
     "metadata": {},
     "output_type": "execute_result"
    }
   ],
   "source": [
    "import plotly.plotly as py\n",
    "import pandas as pd\n",
    "\n",
    "# df = pd.read_csv('https://raw.githubusercontent.com/plotly/datasets/master/2014_world_gdp_with_codes.csv')\n",
    "\n",
    "data = [ dict(\n",
    "        type = 'choropleth',\n",
    "        locations = data1['Country_Codes'],\n",
    "        z = data1['cluser'],\n",
    "        text = data1['Country_Codes'],\n",
    "#         colorscale = [[0,\"rgb(5, 10, 172)\"],[0.35,\"rgb(40, 60, 190)\"],[0.5,\"rgb(70, 100, 245)\"],\\\n",
    "#             [0.6,\"rgb(90, 120, 245)\"],[0.7,\"rgb(106, 137, 247)\"],[1,\"rgb(220, 220, 220)\"]],\n",
    "#         autocolorscale = True,\n",
    "#         reversescale = True,\n",
    "#         marker = dict(\n",
    "#             line = dict (\n",
    "#                 color = 'rgb(180,180,180)',\n",
    "#                 width = 0.5\n",
    "#             ) ),\n",
    "        colorbar = dict(\n",
    "            autotick = False,\n",
    "            tickprefix = '$',\n",
    "            title = 'GDP<br>Billions US$'),\n",
    "      ) ]\n",
    "\n",
    "layout = dict(\n",
    "    title = 'G-20\"s GDP',\n",
    "    geo = dict(\n",
    "        showframe = False,\n",
    "        showcoastlines = False,\n",
    "        projection = dict(\n",
    "            type = 'Mercator'\n",
    "        )\n",
    "    )\n",
    ")\n",
    "\n",
    "fig = dict(data=data, layout=layout)\n",
    "# py.iplot( fig, validate=False, filename='d3-world-map' )\n",
    "plot( fig, validate=False, filename='d3-world-map')"
   ]
  },
  {
   "cell_type": "raw",
   "metadata": {},
   "source": [
    "from IPython.display import IFrame\n",
    "IFrame('d3-world-map.html', width=900, height=500)"
   ]
  },
  {
   "cell_type": "code",
   "execution_count": 144,
   "metadata": {
    "collapsed": true
   },
   "outputs": [],
   "source": [
    "fig = {\n",
    "    'data': [\n",
    "  \t\t{\n",
    "  \t\t\t'x': df2007.gdpPercap, \n",
    "        \t'y': df2007.lifeExp, \n",
    "        \t'text': df2007.country, \n",
    "        \t'mode': 'markers', \n",
    "        \t'name': '2007'},\n",
    "        {\n",
    "        \t'x': df1952.gdpPercap, \n",
    "        \t'y': df1952.lifeExp, \n",
    "        \t'text': df1952.country, \n",
    "        \t'mode': 'markers', \n",
    "        \t'name': '1952'}\n",
    "    ],\n",
    "    'layout': {\n",
    "        'xaxis': {'title': 'GDP per Capita', 'type': 'log'},\n",
    "        'yaxis': {'title': \"Life Expectancy\"}\n",
    "    }\n",
    "}"
   ]
  },
  {
   "cell_type": "code",
   "execution_count": 165,
   "metadata": {
    "collapsed": true
   },
   "outputs": [],
   "source": [
    "data = []\n",
    "\n",
    "year = 'GDP_2015'\n",
    "data.append({\n",
    "    'x': data1[year],\n",
    "    'y': data1['cluster'],\n",
    "    'mode': 'markers',\n",
    "    'text': data1['Country'],\n",
    "    'name': year,\n",
    "    'colors': chart_colors\n",
    "})"
   ]
  },
  {
   "cell_type": "code",
   "execution_count": 166,
   "metadata": {},
   "outputs": [
    {
     "name": "stderr",
     "output_type": "stream",
     "text": [
      "/Users/sampathm/miniconda3/lib/python3.5/site-packages/plotly/offline/offline.py:459: UserWarning:\n",
      "\n",
      "Your filename `d3-world-map` didn't end with .html. Adding .html to the end of your file.\n",
      "\n"
     ]
    },
    {
     "data": {
      "text/plain": [
       "'file:///Users/sampathm/devbox/d3-world-map.html'"
      ]
     },
     "execution_count": 166,
     "metadata": {},
     "output_type": "execute_result"
    }
   ],
   "source": [
    "fig = dict(data=data, layout=layout)\n",
    "# py.iplot( fig, validate=False, filename='d3-world-map' )\n",
    "plot( fig, validate=False, filename='d3-world-map')"
   ]
  },
  {
   "cell_type": "markdown",
   "metadata": {
    "collapsed": true
   },
   "source": [
    "## IRIS Dataset"
   ]
  },
  {
   "cell_type": "code",
   "execution_count": 174,
   "metadata": {
    "collapsed": true
   },
   "outputs": [],
   "source": [
    "from sklearn import datasets\n",
    "\n",
    "# import some data to play with\n",
    "iris = datasets.load_iris()\n",
    "X = iris.data # [:, :2]  # we only take the first two features.\n",
    "Y = iris.target"
   ]
  },
  {
   "cell_type": "code",
   "execution_count": 175,
   "metadata": {},
   "outputs": [
    {
     "data": {
      "text/plain": [
       "array([[ 5.1,  3.5,  1.4,  0.2],\n",
       "       [ 4.9,  3. ,  1.4,  0.2],\n",
       "       [ 4.7,  3.2,  1.3,  0.2],\n",
       "       [ 4.6,  3.1,  1.5,  0.2],\n",
       "       [ 5. ,  3.6,  1.4,  0.2]])"
      ]
     },
     "execution_count": 175,
     "metadata": {},
     "output_type": "execute_result"
    }
   ],
   "source": [
    "X[:5]"
   ]
  },
  {
   "cell_type": "code",
   "execution_count": 190,
   "metadata": {},
   "outputs": [
    {
     "name": "stdout",
     "output_type": "stream",
     "text": [
      "(112, 4) (112,) (38, 4) (38,)\n"
     ]
    }
   ],
   "source": [
    "from sklearn.model_selection import train_test_split\n",
    "\n",
    "X_train, X_test, y_train, y_test = train_test_split(iris.data, iris.target, test_size=0.25, random_state=0)\n",
    "\n",
    "print(X_train.shape, y_train.shape, X_test.shape, y_test.shape)"
   ]
  },
  {
   "cell_type": "code",
   "execution_count": 199,
   "metadata": {},
   "outputs": [],
   "source": [
    "from sklearn.metrics import accuracy_score"
   ]
  },
  {
   "cell_type": "markdown",
   "metadata": {},
   "source": [
    "## Random Forest"
   ]
  },
  {
   "cell_type": "code",
   "execution_count": 205,
   "metadata": {},
   "outputs": [],
   "source": [
    "from  sklearn.ensemble import RandomForestClassifier\n",
    "\n",
    "clf = RandomForestClassifier()\n",
    "clf = clf.fit(X_train, y_train)"
   ]
  },
  {
   "cell_type": "code",
   "execution_count": 206,
   "metadata": {},
   "outputs": [
    {
     "data": {
      "text/plain": [
       "1.0"
      ]
     },
     "execution_count": 206,
     "metadata": {},
     "output_type": "execute_result"
    }
   ],
   "source": [
    "accuracy_score(clf.predict(X_train), y_train)"
   ]
  },
  {
   "cell_type": "code",
   "execution_count": 207,
   "metadata": {},
   "outputs": [
    {
     "data": {
      "text/plain": [
       "0.97368421052631582"
      ]
     },
     "execution_count": 207,
     "metadata": {},
     "output_type": "execute_result"
    }
   ],
   "source": [
    "accuracy_score(clf.predict(X_test), y_test)"
   ]
  },
  {
   "cell_type": "code",
   "execution_count": 208,
   "metadata": {},
   "outputs": [
    {
     "data": {
      "text/plain": [
       "0.99333333333333329"
      ]
     },
     "execution_count": 208,
     "metadata": {},
     "output_type": "execute_result"
    }
   ],
   "source": [
    "accuracy_score(clf.predict(X), Y)"
   ]
  },
  {
   "cell_type": "markdown",
   "metadata": {},
   "source": [
    "## SVM"
   ]
  },
  {
   "cell_type": "code",
   "execution_count": 210,
   "metadata": {},
   "outputs": [],
   "source": [
    "from sklearn import svm\n",
    "clf = svm.SVC(kernel='linear', C=2)\n",
    "\n",
    "clf = clf.fit(X_train, y_train)"
   ]
  },
  {
   "cell_type": "code",
   "execution_count": 211,
   "metadata": {},
   "outputs": [
    {
     "data": {
      "text/plain": [
       "0.9821428571428571"
      ]
     },
     "execution_count": 211,
     "metadata": {},
     "output_type": "execute_result"
    }
   ],
   "source": [
    "accuracy_score(clf.predict(X_train), y_train)"
   ]
  },
  {
   "cell_type": "code",
   "execution_count": 212,
   "metadata": {},
   "outputs": [
    {
     "data": {
      "text/plain": [
       "0.97368421052631582"
      ]
     },
     "execution_count": 212,
     "metadata": {},
     "output_type": "execute_result"
    }
   ],
   "source": [
    "accuracy_score(clf.predict(X_test), y_test)"
   ]
  },
  {
   "cell_type": "code",
   "execution_count": 213,
   "metadata": {},
   "outputs": [
    {
     "data": {
      "text/plain": [
       "0.97999999999999998"
      ]
     },
     "execution_count": 213,
     "metadata": {},
     "output_type": "execute_result"
    }
   ],
   "source": [
    "accuracy_score(clf.predict(X), Y)"
   ]
  }
 ],
 "metadata": {
  "kernelspec": {
   "display_name": "Python 3",
   "language": "python",
   "name": "python3"
  },
  "language_info": {
   "codemirror_mode": {
    "name": "ipython",
    "version": 3
   },
   "file_extension": ".py",
   "mimetype": "text/x-python",
   "name": "python",
   "nbconvert_exporter": "python",
   "pygments_lexer": "ipython3",
   "version": "3.5.3"
  }
 },
 "nbformat": 4,
 "nbformat_minor": 2
}
