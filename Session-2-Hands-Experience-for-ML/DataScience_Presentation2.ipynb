{
 "cells": [
  {
   "cell_type": "markdown",
   "metadata": {
    "collapsed": true,
    "slideshow": {
     "slide_type": "slide"
    }
   },
   "source": [
    "# Data Science Workshop\n",
    "\n",
    "Goal: To learn, how to start implementing ML."
   ]
  },
  {
   "cell_type": "markdown",
   "metadata": {
    "slideshow": {
     "slide_type": "slide"
    }
   },
   "source": [
    "# Recap\n",
    "\n",
    "* Machine Learning is a sub feild of Artificial Intelligence, which is focused on self learning.\n",
    "* Data Science is not single step process\n",
    "    * Model Building: Linear Models, Support Vector Machines, Random Forest Models\n",
    "    * Validation: How good is your model?\n",
    "    * Presentation/Story-telling\n",
    "\n",
    "* Data Science Goal:\n",
    "    * Supervised/ Unsupervised\n",
    "    * Regression Models/ Classification Models\n"
   ]
  },
  {
   "cell_type": "markdown",
   "metadata": {
    "collapsed": true,
    "slideshow": {
     "slide_type": "slide"
    }
   },
   "source": [
    "# Questions\n",
    "\n",
    "* Question Poolling\n",
    "    * Check for how many of you know Python?\n",
    "    * Check for how many of you know Programming(& do on daily basis)?"
   ]
  },
  {
   "cell_type": "markdown",
   "metadata": {
    "slideshow": {
     "slide_type": "slide"
    }
   },
   "source": [
    "## Agenda\n",
    "\n",
    "* Learn about Few python libraries\n",
    "* Hands on 3 basic Python Data Modelling stages of Linear Regression\n",
    "* Comparision LR to other ML Models"
   ]
  },
  {
   "cell_type": "markdown",
   "metadata": {
    "slideshow": {
     "slide_type": "slide"
    }
   },
   "source": [
    "# Python Libs"
   ]
  },
  {
   "cell_type": "markdown",
   "metadata": {
    "slideshow": {
     "slide_type": "slide"
    }
   },
   "source": [
    "### Numpy\n",
    "\n",
    "NumPy is the fundamental package for scientific computing with Python.\n",
    "\n",
    "a powerful N-dimensional array object\n",
    "sophisticated (broadcasting) functions\n",
    "tools for integrating C/C++ and Fortran code useful linear algebra, Fourier transform, and random number capabilities\n",
    "Besides its obvious scientific uses, NumPy can also be used as an efficient multi-dimensional container of generic data. Arbitrary data-types can be defined. This allows NumPy to seamlessly and speedily integrate with a wide variety of databases."
   ]
  },
  {
   "cell_type": "code",
   "execution_count": 4,
   "metadata": {
    "collapsed": true
   },
   "outputs": [],
   "source": [
    "import numpy as np"
   ]
  },
  {
   "cell_type": "markdown",
   "metadata": {
    "slideshow": {
     "slide_type": "slide"
    }
   },
   "source": [
    "### Pandas\n",
    "\n",
    "pandas is an open source, BSD-licensed library providing high-performance, easy-to-use data structures and data analysis tools for the Python programming language."
   ]
  },
  {
   "cell_type": "code",
   "execution_count": 5,
   "metadata": {
    "collapsed": true,
    "slideshow": {
     "slide_type": "-"
    }
   },
   "outputs": [],
   "source": [
    "import pandas as pd"
   ]
  },
  {
   "cell_type": "markdown",
   "metadata": {
    "slideshow": {
     "slide_type": "slide"
    }
   },
   "source": [
    "### Plotting Libs"
   ]
  },
  {
   "cell_type": "code",
   "execution_count": 427,
   "metadata": {
    "slideshow": {
     "slide_type": "-"
    }
   },
   "outputs": [
    {
     "data": {
      "text/plain": [
       "[<matplotlib.lines.Line2D at 0x11e668080>]"
      ]
     },
     "execution_count": 427,
     "metadata": {},
     "output_type": "execute_result"
    },
    {
     "data": {
      "image/png": "[encoded data removed]",
      "text/plain": [
       "<matplotlib.figure.Figure at 0x11e61b630>"
      ]
     },
     "metadata": {},
     "output_type": "display_data"
    }
   ],
   "source": [
    "import matplotlib.pyplot as plt\n",
    "import seaborn as sns\n",
    "\n",
    "%matplotlib inline\n",
    "# Example\n",
    "\n",
    "plt.plot([1, 2, 4, 3, 2, 1, 3], [5, 4, 5, 6, 6, 5, 6], 'r')"
   ]
  },
  {
   "cell_type": "markdown",
   "metadata": {
    "slideshow": {
     "slide_type": "slide"
    }
   },
   "source": [
    "### Models"
   ]
  },
  {
   "cell_type": "code",
   "execution_count": 2,
   "metadata": {
    "collapsed": true,
    "slideshow": {
     "slide_type": "-"
    }
   },
   "outputs": [],
   "source": [
    "# can represent any kind of line\n",
    "from sklearn import linear_model  \n",
    "\n",
    "# can represent any kind of curves\n",
    "from sklearn.svm import LinearSVR \n",
    "\n",
    "# can represent any kinds of curves\n",
    "from sklearn.ensemble import RandomForestRegressor "
   ]
  },
  {
   "cell_type": "markdown",
   "metadata": {
    "collapsed": true,
    "slideshow": {
     "slide_type": "slide"
    }
   },
   "source": [
    "### Scoring\n"
   ]
  },
  {
   "cell_type": "code",
   "execution_count": null,
   "metadata": {
    "collapsed": true
   },
   "outputs": [],
   "source": [
    "from sklearn.metrics.regression import mean_squared_error, mean_absolute_error"
   ]
  },
  {
   "cell_type": "markdown",
   "metadata": {
    "slideshow": {
     "slide_type": "slide"
    }
   },
   "source": [
    "### Workshop beings\n",
    "\n",
    "* Linear Regression - Part 1\n",
    "* Linear Regression - Part 2\n",
    "* Linear Regression - Part 3"
   ]
  },
  {
   "cell_type": "markdown",
   "metadata": {
    "slideshow": {
     "slide_type": "slide"
    }
   },
   "source": [
    "# Advanced Concepts\n",
    "\n",
    "1. Data Analytics & Feature Engineering (Seaborn, PCA)\n",
    "\n",
    "2. Test-Train Data Split (Test Train Validation splits)\n",
    "\n",
    "3. Model Understanding & working intutions (Model Tuning)\n",
    "    \n",
    "4. Scoring Methods (Truth Tables, Precision, Recall)\n",
    "\n",
    "Some other time for these models\n",
    "\n",
    "5. Cross Validation\n",
    "6. Multiclass, Multi-variate"
   ]
  },
  {
   "cell_type": "markdown",
   "metadata": {
    "slideshow": {
     "slide_type": "slide"
    }
   },
   "source": [
    "## Data Analytics & Feature Engineering\n",
    "\n",
    "Actual Data\n",
    "![Image](https://qph.ec.quoracdn.net/main-qimg-f3429688b09b8a3fd40af8911e58a175.webp)\n",
    "\n",
    "Make the differences looks visible to the machine\n",
    "![Image](https://qph.ec.quoracdn.net/main-qimg-d997e413875afd5118af83440f56081b.webp)\n",
    "\n",
    "Learn: https://www.quora.com/What-is-feature-engineering"
   ]
  },
  {
   "cell_type": "markdown",
   "metadata": {
    "slideshow": {
     "slide_type": "slide"
    }
   },
   "source": [
    "## Test-Train Datasets\n",
    "\n",
    "![Image](https://images.duckduckgo.com/iu/?u=https%3A%2F%2Fwww.codeproject.com%2FKB%2FAI%2F1146582%2Fvalidation.PNG&f=1)"
   ]
  },
  {
   "cell_type": "markdown",
   "metadata": {
    "slideshow": {
     "slide_type": "slide"
    }
   },
   "source": [
    "## Model Selections\n",
    "\n",
    "![Image](https://www.packtpub.com/sites/default/files/new_blog_images/173/ml_map.png)"
   ]
  },
  {
   "cell_type": "markdown",
   "metadata": {
    "slideshow": {
     "slide_type": "slide"
    }
   },
   "source": [
    "# Scoring Methods - Cautions\n",
    "\n",
    "![Image](https://images.duckduckgo.com/iu/?u=https%3A%2F%2Fcdn.searchenginejournal.com%2Fwp-content%2Fuploads%2F2014%2F12%2Fshutterstock_178449461-760x400.jpg&f=1)"
   ]
  },
  {
   "cell_type": "markdown",
   "metadata": {
    "slideshow": {
     "slide_type": "slide"
    }
   },
   "source": [
    "# Find - Where do you fit?"
   ]
  },
  {
   "cell_type": "markdown",
   "metadata": {},
   "source": [
    "\n",
    "![image](http://1onjea25cyhx3uvxgs4vu325.wpengine.netdna-cdn.com/wp-content/uploads/2016/04/ML-Graph-1024x668.png)"
   ]
  },
  {
   "cell_type": "markdown",
   "metadata": {
    "slideshow": {
     "slide_type": "slide"
    }
   },
   "source": [
    "## Linear Regression\n",
    "\n"
   ]
  },
  {
   "cell_type": "markdown",
   "metadata": {
    "slideshow": {
     "slide_type": "slide"
    }
   },
   "source": [
    "### SVM Working\n",
    "\n",
    "Basic of Sketching\n",
    "\n",
    "There are only 3 major shapes in sketching - Lines, Curves and Oval shapes\n",
    "\n",
    "![Image](http://www.learn-how-to-draw-and-paint-great.com/images/abstract-shapes.jpg)\n",
    "\n",
    "\n",
    "Three basic principles in which SVM focuses\n",
    "\n",
    " 1. Optimal Seperation/Boundary Region\n",
    " \n",
    "    Find a linear equation, that could represent our solution using Hyper-planes\n",
    "    \n",
    "    ![Image](https://i.stack.imgur.com/1gvce.png)\n",
    "\n",
    " 2. Maximun Marginal boundary distances.\n",
    "\n",
    "    Seperation of regions such that we have enough safety space space in both regions.\n",
    "\n",
    "    ![Image](https://i.stack.imgur.com/qt3CZ.png)\n",
    "\n",
    " 3. Kernal Transformations\n",
    " \n",
    " The kernel function can be any of the following:\n",
    "    * linear: (X, Y)\n",
    "    * polynomial: (gamma*(X, Y) + r)^d. d is specified by keyword degree, r by coef0.\n",
    "    * rbf: exp(-gamma * (X, Y)^2). gamma is specified by keyword gamma, must be greater than 0.\n",
    "    * sigmoid tanh(gamma*(X, Y) + r), where r is specified by coef0.\n",
    " \n",
    "\n",
    "\n",
    "#### Complete working style\n",
    "\n",
    "![Image](https://www.eleceng.adelaide.edu.au/personal/dabbott/wiki/images/2/2a/F_SVM.jpg)\n",
    "\n",
    "\n",
    "* Learn: http://scikit-learn.org/stable/modules/svm.html\n",
    "* Kernals Learn: http://scikit-learn.org/stable/auto_examples/svm/plot_svm_regression.html#sphx-glr-auto-examples-svm-plot-svm-regression-py"
   ]
  },
  {
   "cell_type": "markdown",
   "metadata": {
    "slideshow": {
     "slide_type": "slide"
    }
   },
   "source": [
    "## Random Forest\n",
    "\n",
    "* ExtraTreesRegressor\n",
    "* Bagging, Boosting\n",
    "\n",
    "\n",
    "![Image](https://images.duckduckgo.com/iu/?u=https%3A%2F%2Fi1.wp.com%2Fcdn-ak.f.st-hatena.com%2Fimages%2Ffotolife%2Fk%2Fkazoo04%2F20131204%2F20131204173330.png&f=1)\n",
    "\n",
    "Random Forest Real Life Application - Majority Rule\n",
    "* Decision are made of cumulative experiences collected from council.\n",
    "\n",
    "![Roman Council](https://images.duckduckgo.com/iu/?u=http%3A%2F%2Fwww.crystalinks.com%2Fromesenate1.jpg&f=1)"
   ]
  },
  {
   "cell_type": "markdown",
   "metadata": {
    "slideshow": {
     "slide_type": "slide"
    }
   },
   "source": [
    "## References\n",
    "\n",
    "* https://www.thoughtco.com/laws-of-thermodynamics-p3-2699420\n",
    "* https://web.ics.purdue.edu/~yrosokha/code/Seaborn_Example_1.html\n",
    "* https://github.com/justmarkham/DAT4/blob/master/notebooks/08_linear_regression.ipynb"
   ]
  }
 ],
 "metadata": {
  "celltoolbar": "Slideshow",
  "kernelspec": {
   "display_name": "Python 3",
   "language": "python",
   "name": "python3"
  },
  "language_info": {
   "codemirror_mode": {
    "name": "ipython",
    "version": 3
   },
   "file_extension": ".py",
   "mimetype": "text/x-python",
   "name": "python",
   "nbconvert_exporter": "python",
   "pygments_lexer": "ipython3",
   "version": "3.5.3"
  }
 },
 "nbformat": 4,
 "nbformat_minor": 2
}
